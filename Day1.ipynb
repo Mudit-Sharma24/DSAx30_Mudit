{
 "cells": [
  {
   "cell_type": "code",
   "execution_count": 10,
   "id": "afa0f20f-f14c-4004-a44e-811006667208",
   "metadata": {},
   "outputs": [
    {
     "name": "stdin",
     "output_type": "stream",
     "text": [
      "Enter a number: 4\n"
     ]
    },
    {
     "name": "stdout",
     "output_type": "stream",
     "text": [
      "4 4 4 4 4 4 4\n",
      "4 3 3 3 3 3 4\n",
      "4 3 2 2 2 3 4\n",
      "4 3 2 1 2 3 4\n",
      "4 3 2 2 2 3 4\n",
      "4 3 3 3 3 3 4\n",
      "4 4 4 4 4 4 4\n"
     ]
    }
   ],
   "source": [
    "# problem 1\n",
    "\n",
    "n=int(input(\"Enter a number:\"))\n",
    "l=[]\n",
    "for i in range(n*2-1):\n",
    "    l.append(n)\n",
    "beg=1\n",
    "end=len(l)-2\n",
    "print(*l)\n",
    "def pattern(beg,end,l):\n",
    "    beg1=beg\n",
    "    end1=end\n",
    "    while beg1<=end1:\n",
    "        l[beg1]=l[end1]=l[beg1]-1\n",
    "        beg1+=1\n",
    "        end1-=1\n",
    "    print(*l)\n",
    "    if beg<end:\n",
    "        pattern(beg+1,end-1,l.copy())\n",
    "        print(*l)\n",
    "pattern(beg,end,l.copy())\n",
    "print(*l)"
   ]
  },
  {
   "cell_type": "code",
   "execution_count": 94,
   "id": "ee98a2e2-58ec-45ef-9865-c0aceef12a81",
   "metadata": {},
   "outputs": [
    {
     "name": "stdin",
     "output_type": "stream",
     "text": [
      "Enter a number: 3\n"
     ]
    },
    {
     "name": "stdout",
     "output_type": "stream",
     "text": [
      "  A\n",
      " ABA\n",
      "ABCBA\n"
     ]
    }
   ],
   "source": [
    "#problem 2\n",
    "\n",
    "n=int(input(\"Enter a number:\"))\n",
    "l=[]\n",
    "global space\n",
    "space=n-1\n",
    "for i in range(65,65+n):\n",
    "    print(\" \"*space,end=\"\")\n",
    "    space-=1\n",
    "    r=l[:]\n",
    "    del r[-1:65-i:-1]\n",
    "    del l[-1:65-i:-1]\n",
    "    r.reverse()\n",
    "    l.extend(r)\n",
    "    l.insert(len(l)//2,chr(i))\n",
    "    print(*l,sep=\"\")"
   ]
  },
  {
   "cell_type": "code",
   "execution_count": 2,
   "id": "af7248d4-43da-477b-a6f7-510ab1d57b5f",
   "metadata": {},
   "outputs": [
    {
     "name": "stdin",
     "output_type": "stream",
     "text": [
      "Enter any number: 47\n"
     ]
    },
    {
     "name": "stdout",
     "output_type": "stream",
     "text": [
      "Not a happy number.\n"
     ]
    }
   ],
   "source": [
    "#problem 4\n",
    "\n",
    "n=input(\"Enter any number:\")\n",
    "n=list(n)\n",
    "def happy(n):\n",
    "    sum=0\n",
    "    for i in range(len(n)):\n",
    "        sum+=int(n[i])**2\n",
    "    if sum==1:\n",
    "        print(\"Entered number is a happy number.\")\n",
    "        return\n",
    "    if sum in range(10) or sum==16 or sum==37 or sum==58:\n",
    "        print(\"Not a happy number.\")\n",
    "        return\n",
    "    sum=str(sum)\n",
    "    happy(list(sum))\n",
    "happy(n)"
   ]
  },
  {
   "cell_type": "code",
   "execution_count": 7,
   "id": "92be1038-94b7-4a52-990a-062f765e9e10",
   "metadata": {},
   "outputs": [
    {
     "name": "stdin",
     "output_type": "stream",
     "text": [
      "Enter starting point: 1\n",
      "Enter ending point: 1000\n"
     ]
    },
    {
     "name": "stdout",
     "output_type": "stream",
     "text": [
      "The Kaprekar numbers are:\n",
      "1,9,45,55,99,297,703,999,\n",
      "The frequency of Kaprekar numbers is 8\n"
     ]
    }
   ],
   "source": [
    "#problem 5\n",
    "\n",
    "def roofdiv(a,b):\n",
    "    return -(a//-b)\n",
    "p=int(input(\"Enter starting point:\"))\n",
    "q=int(input(\"Enter ending point:\"))\n",
    "print(\"The Kaprekar numbers are:\")\n",
    "c=0\n",
    "for i in range(p,q+1):\n",
    "    left=i**2\n",
    "    numlen=len(list(str(left)))\n",
    "    right=left%(10**roofdiv(numlen,2))\n",
    "    left=(left-right)/(10**roofdiv(numlen,2))\n",
    "    if left+right==i:\n",
    "        print(i,end=\",\")\n",
    "        c+=1\n",
    "print(\"\\nThe frequency of Kaprekar numbers is\",c)"
   ]
  },
  {
   "cell_type": "code",
   "execution_count": null,
   "id": "08cc04f1-c7df-465f-9e13-89ccb86ffa32",
   "metadata": {},
   "outputs": [],
   "source": []
  }
 ],
 "metadata": {
  "kernelspec": {
   "display_name": "Python 3 (ipykernel)",
   "language": "python",
   "name": "python3"
  },
  "language_info": {
   "codemirror_mode": {
    "name": "ipython",
    "version": 3
   },
   "file_extension": ".py",
   "mimetype": "text/x-python",
   "name": "python",
   "nbconvert_exporter": "python",
   "pygments_lexer": "ipython3",
   "version": "3.12.7"
  }
 },
 "nbformat": 4,
 "nbformat_minor": 5
}
