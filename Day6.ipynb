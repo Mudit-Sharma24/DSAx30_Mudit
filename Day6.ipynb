{
 "cells": [
  {
   "cell_type": "code",
   "execution_count": 5,
   "id": "62f9e3a7-e4d1-411d-8b0c-899d0851e0f8",
   "metadata": {},
   "outputs": [
    {
     "name": "stdin",
     "output_type": "stream",
     "text": [
      "Enter roman numeral: MCMXCIV\n"
     ]
    },
    {
     "name": "stdout",
     "output_type": "stream",
     "text": [
      "Output: 1994\n"
     ]
    }
   ],
   "source": [
    "#problem 1\n",
    "\n",
    "def roman(s):\n",
    "    if s==\"I\":\n",
    "        return(1)\n",
    "    elif s==\"V\":\n",
    "        return(5)\n",
    "    elif s==\"X\":\n",
    "        return(10)\n",
    "    elif s==\"L\":\n",
    "        return(50)\n",
    "    elif s==\"C\":\n",
    "        return(100)\n",
    "    elif s==\"D\":\n",
    "        return(500)\n",
    "    elif s==\"M\":\n",
    "        return(1000)\n",
    "\n",
    "s=input(\"Enter roman numeral:\")\n",
    "sol=roman(s[-1])\n",
    "for i in range(-2,-(len(s)+1),-1):\n",
    "    prev=s[i+1]\n",
    "    if s[i]==\"I\":\n",
    "        if prev==\"V\" or prev==\"X\":\n",
    "            sol-=roman(s[i])\n",
    "        else:\n",
    "            sol+=roman(s[i])\n",
    "    elif s[i]==\"X\":\n",
    "        if prev==\"L\" or prev==\"C\":\n",
    "            sol-=roman(s[i])\n",
    "        else:\n",
    "            sol+=roman(s[i])\n",
    "    elif s[i]==\"C\":\n",
    "        if prev==\"D\" or prev==\"M\":\n",
    "            sol-=roman(s[i])\n",
    "        else:\n",
    "            sol+=roman(s[i])\n",
    "    else:\n",
    "        sol+=roman(s[i])\n",
    "\n",
    "print(\"Output:\",sol)"
   ]
  },
  {
   "cell_type": "code",
   "execution_count": 1,
   "id": "f8f158a5-ce89-412f-ba78-eb06cd1cf769",
   "metadata": {},
   "outputs": [
    {
     "name": "stdin",
     "output_type": "stream",
     "text": [
      "Enter first binary number: 1011\n",
      "Enter second binary number: 1101\n"
     ]
    },
    {
     "name": "stdout",
     "output_type": "stream",
     "text": [
      "Output: 11000\n"
     ]
    }
   ],
   "source": [
    "#problem 2\n",
    "\n",
    "a=input(\"Enter first binary number:\")\n",
    "b=input(\"Enter second binary number:\")\n",
    "i1=0\n",
    "i2=0\n",
    "mul=1\n",
    "for i in a[::-1]:\n",
    "    i1+=(ord(i)-48)*mul\n",
    "    mul*=2\n",
    "mul=1\n",
    "for i in b[::-1]:\n",
    "    i2+=(ord(i)-48)*mul\n",
    "    mul*=2\n",
    "isum=i1+i2\n",
    "bsum=\"\"\n",
    "while isum!=0:\n",
    "    bsum+=str(isum%2)\n",
    "    isum=isum//2\n",
    "print(\"Output:\",bsum[::-1])"
   ]
  },
  {
   "cell_type": "code",
   "execution_count": null,
   "id": "68904bc4-15b2-4800-a25a-c8950270d3ff",
   "metadata": {},
   "outputs": [],
   "source": []
  }
 ],
 "metadata": {
  "kernelspec": {
   "display_name": "Python 3 (ipykernel)",
   "language": "python",
   "name": "python3"
  },
  "language_info": {
   "codemirror_mode": {
    "name": "ipython",
    "version": 3
   },
   "file_extension": ".py",
   "mimetype": "text/x-python",
   "name": "python",
   "nbconvert_exporter": "python",
   "pygments_lexer": "ipython3",
   "version": "3.12.7"
  }
 },
 "nbformat": 4,
 "nbformat_minor": 5
}
