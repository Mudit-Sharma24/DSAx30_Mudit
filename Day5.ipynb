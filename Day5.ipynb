{
 "cells": [
  {
   "cell_type": "code",
   "execution_count": 17,
   "id": "c582d04b-310c-4897-9a47-c5ef3bff62aa",
   "metadata": {},
   "outputs": [
    {
     "name": "stdin",
     "output_type": "stream",
     "text": [
      "Input: \"-042\"\n"
     ]
    },
    {
     "name": "stdout",
     "output_type": "stream",
     "text": [
      "Output: -42\n"
     ]
    }
   ],
   "source": [
    "#problem 1\n",
    "s=eval(input(\"Input:\"))\n",
    "s.lstrip() #removes leading spaces\n",
    "def myAtoi(s):\n",
    "    num=0\n",
    "    sign=0\n",
    "    for i in s:\n",
    "        if i=='0' and num==0:\n",
    "            continue\n",
    "        elif i.isdigit() and sign==0:\n",
    "            sign=1\n",
    "        elif sign==0 and s.find(i)==0:\n",
    "            if i=='+':\n",
    "                sign=1\n",
    "                continue\n",
    "            elif i=='-':\n",
    "                sign=-1\n",
    "                continue\n",
    "\n",
    "        elif (i=='+' or i=='-') and sign!=0:\n",
    "            break\n",
    "        elif not i.isdigit():\n",
    "            break\n",
    "        num=num*10+(ord(i)-48)\n",
    "    num*=sign\n",
    "    print(\"Output:\",num)\n",
    "myAtoi(s)"
   ]
  },
  {
   "cell_type": "code",
   "execution_count": null,
   "id": "7d398e38-ce8e-4c0e-969e-c5d5f677cb39",
   "metadata": {},
   "outputs": [],
   "source": []
  }
 ],
 "metadata": {
  "kernelspec": {
   "display_name": "Python 3 (ipykernel)",
   "language": "python",
   "name": "python3"
  },
  "language_info": {
   "codemirror_mode": {
    "name": "ipython",
    "version": 3
   },
   "file_extension": ".py",
   "mimetype": "text/x-python",
   "name": "python",
   "nbconvert_exporter": "python",
   "pygments_lexer": "ipython3",
   "version": "3.12.7"
  }
 },
 "nbformat": 4,
 "nbformat_minor": 5
}
