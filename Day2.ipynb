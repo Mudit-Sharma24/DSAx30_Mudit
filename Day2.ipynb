{
 "cells": [
  {
   "cell_type": "code",
   "execution_count": 6,
   "id": "b23d4f16-9448-4e76-a10a-4bef6f90c843",
   "metadata": {},
   "outputs": [
    {
     "name": "stdin",
     "output_type": "stream",
     "text": [
      "Enter a number: 3\n",
      "Would you like to stop (enter yes or no): no\n",
      "Enter a number: 3\n",
      "Would you like to stop (enter yes or no): yes\n",
      "What is your target ? 6\n"
     ]
    },
    {
     "name": "stdout",
     "output_type": "stream",
     "text": [
      "The solution is [0, 1]\n"
     ]
    }
   ],
   "source": [
    "#problem 1\n",
    "\n",
    "\n",
    "def check(num,target):\n",
    "    for i in range(len(num)):\n",
    "        if num[i]>target:\n",
    "            continue\n",
    "        for j in range(len(num)):\n",
    "            if j==i or num[j]>target:\n",
    "                continue\n",
    "            elif num[i]+num[j]==target:\n",
    "                sol=[i,j]\n",
    "                print(\"The solution is\",sol)\n",
    "                return\n",
    "    print(\"There is no solution.\")\n",
    "    \n",
    "stop=\"no\"\n",
    "num=[]\n",
    "while stop==\"no\":\n",
    "    n=int(input(\"Enter a number:\"))\n",
    "    num.append(n)\n",
    "    stop=input(\"Would you like to stop (enter yes or no):\")\n",
    "    stop.lower()\n",
    "target=int(input(\"What is your target ?\"))\n",
    "check(num,target)"
   ]
  },
  {
   "cell_type": "code",
   "execution_count": null,
   "id": "19d6af0a-ef4d-4e0a-b3bf-9cdb7f528018",
   "metadata": {},
   "outputs": [],
   "source": []
  }
 ],
 "metadata": {
  "kernelspec": {
   "display_name": "Python 3 (ipykernel)",
   "language": "python",
   "name": "python3"
  },
  "language_info": {
   "codemirror_mode": {
    "name": "ipython",
    "version": 3
   },
   "file_extension": ".py",
   "mimetype": "text/x-python",
   "name": "python",
   "nbconvert_exporter": "python",
   "pygments_lexer": "ipython3",
   "version": "3.12.7"
  }
 },
 "nbformat": 4,
 "nbformat_minor": 5
}
