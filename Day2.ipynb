{
 "cells": [
  {
   "cell_type": "code",
   "execution_count": 3,
   "id": "b23d4f16-9448-4e76-a10a-4bef6f90c843",
   "metadata": {},
   "outputs": [
    {
     "name": "stdin",
     "output_type": "stream",
     "text": [
      "Enter numbers: 324\n",
      "What is your target ? 6\n"
     ]
    },
    {
     "name": "stdout",
     "output_type": "stream",
     "text": [
      "The solution is [1, 2]\n"
     ]
    }
   ],
   "source": [
    "#problem 1\n",
    "\n",
    "\n",
    "def check(num,target):\n",
    "    for i in range(len(num)):\n",
    "        if num[i]>target:\n",
    "            continue\n",
    "        for j in range(len(num)):\n",
    "            if j==i or num[j]>target:\n",
    "                continue\n",
    "            elif num[i]+num[j]==target:\n",
    "                sol=[i,j]\n",
    "                print(\"The solution is\",sol)\n",
    "                return\n",
    "    print(\"There is no solution.\")\n",
    "    \n",
    "stop=\"no\"\n",
    "nums=list(input(\"Enter numbers:\"))\n",
    "target=int(input(\"What is your target ?\"))\n",
    "check(nums,target)"
   ]
  },
  {
   "cell_type": "code",
   "execution_count": null,
   "id": "e1101c5f-ac5a-4f4d-8602-1ae0587520c9",
   "metadata": {},
   "outputs": [],
   "source": []
  }
 ],
 "metadata": {
  "kernelspec": {
   "display_name": "Python 3 (ipykernel)",
   "language": "python",
   "name": "python3"
  },
  "language_info": {
   "codemirror_mode": {
    "name": "ipython",
    "version": 3
   },
   "file_extension": ".py",
   "mimetype": "text/x-python",
   "name": "python",
   "nbconvert_exporter": "python",
   "pygments_lexer": "ipython3",
   "version": "3.12.7"
  }
 },
 "nbformat": 4,
 "nbformat_minor": 5
}
