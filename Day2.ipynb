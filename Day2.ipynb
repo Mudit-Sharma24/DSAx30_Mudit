{
 "cells": [
  {
   "cell_type": "code",
   "execution_count": 7,
   "id": "b23d4f16-9448-4e76-a10a-4bef6f90c843",
   "metadata": {},
   "outputs": [
    {
     "name": "stdin",
     "output_type": "stream",
     "text": [
      "Enter numbers (with space between each number): 3 2 4\n",
      "What is your target ? 6\n"
     ]
    },
    {
     "name": "stdout",
     "output_type": "stream",
     "text": [
      "The solution is [1, 2]\n"
     ]
    }
   ],
   "source": [
    "#problem 1\n",
    "\n",
    "\n",
    "def check(num,target):\n",
    "    for i in range(len(num)):\n",
    "        if int(num[i])>target:\n",
    "            continue\n",
    "        for j in range(len(num)):\n",
    "            if j==i or int(num[j])>target:\n",
    "                continue\n",
    "            elif int(num[i])+int(num[j])==target:\n",
    "                sol=[i,j]\n",
    "                print(\"The solution is\",sol)\n",
    "                return\n",
    "    print(\"There is no solution.\")\n",
    "    \n",
    "stop=\"no\"\n",
    "nums=input(\"Enter numbers (with space between each number):\").split()\n",
    "target=int(input(\"What is your target ?\"))\n",
    "check(nums,target)"
   ]
  },
  {
   "cell_type": "code",
   "execution_count": 6,
   "id": "e1101c5f-ac5a-4f4d-8602-1ae0587520c9",
   "metadata": {},
   "outputs": [
    {
     "name": "stdin",
     "output_type": "stream",
     "text": [
      "Enter a number: 1\n",
      "Would you like to keep going ?(y/n) y\n",
      "Enter a number: 2\n",
      "Would you like to keep going ?(y/n) y\n",
      "Enter a number: 3\n",
      "Would you like to keep going ?(y/n) y\n",
      "Enter a number: 4\n",
      "Would you like to keep going ?(y/n) y\n",
      "Enter a number: 5\n",
      "Would you like to keep going ?(y/n) n\n"
     ]
    },
    {
     "name": "stdout",
     "output_type": "stream",
     "text": [
      "Your list: [1, 2, 3, 4, 5]\n",
      "List after rotation: [5, 1, 2, 3, 4]\n"
     ]
    }
   ],
   "source": [
    "#problem 2\n",
    "\n",
    "numlist=[]\n",
    "while True:\n",
    "    n=int(input(\"Enter a number:\"))\n",
    "    numlist.append(n)\n",
    "    option=input(\"Would you like to keep going ?(y/n)\")\n",
    "    if option in \"nN\":\n",
    "        break\n",
    "print(\"Your list:\",numlist)\n",
    "temp=numlist[-1]\n",
    "for i in range(len(numlist)-1,-1,-1):\n",
    "    if i==0:\n",
    "        numlist[0]=temp\n",
    "        break\n",
    "    else:\n",
    "        numlist[i]=numlist[i-1]\n",
    "print(\"List after rotation:\",numlist)"
   ]
  },
  {
   "cell_type": "code",
   "execution_count": null,
   "id": "4bc87f56-cf52-4ec8-b3fa-7fb265987af0",
   "metadata": {},
   "outputs": [],
   "source": []
  }
 ],
 "metadata": {
  "kernelspec": {
   "display_name": "Python 3 (ipykernel)",
   "language": "python",
   "name": "python3"
  },
  "language_info": {
   "codemirror_mode": {
    "name": "ipython",
    "version": 3
   },
   "file_extension": ".py",
   "mimetype": "text/x-python",
   "name": "python",
   "nbconvert_exporter": "python",
   "pygments_lexer": "ipython3",
   "version": "3.12.7"
  }
 },
 "nbformat": 4,
 "nbformat_minor": 5
}
