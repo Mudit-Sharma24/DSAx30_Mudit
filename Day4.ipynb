{
 "cells": [
  {
   "cell_type": "code",
   "execution_count": 21,
   "id": "b5b557aa-242a-46fa-ab37-16738c47e3e8",
   "metadata": {},
   "outputs": [
    {
     "name": "stdin",
     "output_type": "stream",
     "text": [
      "Enter a number: 1\n",
      "Would you like to keep going ?(y/n) 1\n",
      "Enter a number: 2\n",
      "Would you like to keep going ?(y/n) 2\n",
      "Enter a number: 3\n",
      "Would you like to keep going ?(y/n) n\n"
     ]
    },
    {
     "name": "stdout",
     "output_type": "stream",
     "text": [
      "[[], [1], [2], [1, 2], [3], [1, 3], [2, 3], [1, 2, 3]]\n"
     ]
    }
   ],
   "source": [
    "#problem 2\n",
    "\n",
    "numlist=[]\n",
    "powerset=[[]]\n",
    "while True:\n",
    "    n=int(input(\"Enter a number:\"))\n",
    "    numlist.append(n)\n",
    "    option=input(\"Would you like to keep going ?(y/n)\")\n",
    "    if option in \"nN\":\n",
    "        break\n",
    "for c in range(len(numlist)):\n",
    "    powerset+=[[numlist[c]]]\n",
    "    n=len(powerset)-1\n",
    "    for i in range(1,n):\n",
    "        powerset+=[powerset[i]+powerset[n]]\n",
    "print(powerset)"
   ]
  },
  {
   "cell_type": "code",
   "execution_count": null,
   "id": "873ae5d7-271b-462f-8a1a-d0b8cfddf107",
   "metadata": {},
   "outputs": [],
   "source": []
  }
 ],
 "metadata": {
  "kernelspec": {
   "display_name": "Python 3 (ipykernel)",
   "language": "python",
   "name": "python3"
  },
  "language_info": {
   "codemirror_mode": {
    "name": "ipython",
    "version": 3
   },
   "file_extension": ".py",
   "mimetype": "text/x-python",
   "name": "python",
   "nbconvert_exporter": "python",
   "pygments_lexer": "ipython3",
   "version": "3.12.7"
  }
 },
 "nbformat": 4,
 "nbformat_minor": 5
}
